{
  "nbformat": 4,
  "nbformat_minor": 0,
  "metadata": {
    "colab": {
      "provenance": [],
      "authorship_tag": "ABX9TyNGX7uwWfkDdp9AFmEbJsHC",
      "include_colab_link": true
    },
    "kernelspec": {
      "name": "python3",
      "display_name": "Python 3"
    },
    "language_info": {
      "name": "python"
    }
  },
  "cells": [
    {
      "cell_type": "markdown",
      "metadata": {
        "id": "view-in-github",
        "colab_type": "text"
      },
      "source": [
        "<a href=\"https://colab.research.google.com/github/Mattlee10/WMSS/blob/main/0420_26.ipynb\" target=\"_parent\"><img src=\"https://colab.research.google.com/assets/colab-badge.svg\" alt=\"Open In Colab\"/></a>"
      ]
    },
    {
      "cell_type": "markdown",
      "source": [
        "논문 제목: Wearable-based monitoring and self-supervised contrastive learning detect clinical complications during treatment of Hematologic malignancies"
      ],
      "metadata": {
        "id": "ObdkOQxQ3naF"
      }
    },
    {
      "cell_type": "markdown",
      "source": [
        "- 연구 목적: 웨어러블 데이터를 기반으로 암 치료 중 발생 가능한 합병증(임상 위험)을 조기에 탐지하는 알고리즘 개발\n",
        "\n",
        "- 데이터 타입: 웨어러블에서 수집된 심박수, 체온, 활동량 등 비정형 센서 데이터\n",
        "\n",
        "- 기술 접근: Self-supervised contrastive learning(자기 지도 대비 학습) + 시간적 패턴 변화 탐지\n",
        "\n",
        "- 핵심 결과: 기존 rule-based 방식보다 더 빠르고 정확하게 이상 징후 탐지 가능(합볍증 발생 평균 3.7일 전 조기 탐지)\n",
        "\n",
        "- 라벨링: 의료 라벨 없이 기계학습만으로 이상 탐지 모델 학습 성공"
      ],
      "metadata": {
        "id": "_0UPACj631JN"
      }
    },
    {
      "cell_type": "markdown",
      "source": [
        "Step 1. 데이터 로드 & 전처리\n",
        "\n",
        "무엇을 하는가: 시계열 웨어러블 데이터를 불러와서(또는 시뮬레이션)\n",
        "\n",
        "- 타임스탬프 기준 일별/시간별로 정렬\n",
        "- 분당 1샘플 기준으로 리샘플링(resample('1T'))\n",
        "- 결측치는 보간(interpolate()) 등으로 채움\n",
        "\n",
        "왜 필요한가:\n",
        "- 실제 현장 데이터는 누락/불규칙 간격이 잦으므로, 일관된 샘플링이 안 되면 이후 윈도잉에서 창 크기가 달라져 버림\n",
        "- 깨끗한 연속 데이터를 만들어야 '30분씩 묶었을 때 진짜 평균을 구할 수 있음"
      ],
      "metadata": {
        "id": "k6fgDvKxcfOa"
      }
    },
    {
      "cell_type": "code",
      "source": [
        "# 1. PhysioNet 데이터셋 접근을 위한 라이브러리 설치\n",
        "!pip install wfdb --quiet\n",
        "import wfdb\n",
        "import pandas as pd"
      ],
      "metadata": {
        "id": "Su_sGHYLjRsG",
        "colab": {
          "base_uri": "https://localhost:8080/"
        },
        "outputId": "25730791-1a2c-44ad-9c2e-5979f73c912c"
      },
      "execution_count": null,
      "outputs": [
        {
          "output_type": "stream",
          "name": "stdout",
          "text": [
            "\u001b[2K     \u001b[90m━━━━━━━━━━━━━━━━━━━━━━━━━━━━━━━━━━━━━━━━\u001b[0m \u001b[32m89.9/89.9 kB\u001b[0m \u001b[31m2.0 MB/s\u001b[0m eta \u001b[36m0:00:00\u001b[0m\n",
            "\u001b[2K   \u001b[90m━━━━━━━━━━━━━━━━━━━━━━━━━━━━━━━━━━━━━━━━\u001b[0m \u001b[32m163.8/163.8 kB\u001b[0m \u001b[31m3.0 MB/s\u001b[0m eta \u001b[36m0:00:00\u001b[0m\n",
            "\u001b[2K   \u001b[90m━━━━━━━━━━━━━━━━━━━━━━━━━━━━━━━━━━━━━━━━\u001b[0m \u001b[32m13.1/13.1 MB\u001b[0m \u001b[31m41.0 MB/s\u001b[0m eta \u001b[36m0:00:00\u001b[0m\n",
            "\u001b[?25h\u001b[31mERROR: pip's dependency resolver does not currently take into account all the packages that are installed. This behaviour is the source of the following dependency conflicts.\n",
            "google-colab 1.0.0 requires pandas==2.2.2, but you have pandas 2.2.3 which is incompatible.\u001b[0m\u001b[31m\n",
            "\u001b[0m"
          ]
        }
      ]
    },
    {
      "cell_type": "code",
      "source": [
        "# 2) drivedb 컬렉션에서 drive01 레코드만 다운로드\n",
        "wfdb.dl_database(\n",
        "    'drivedb',\n",
        "    dl_dir='/content/stress_data',\n",
        "    records=['drive01']\n",
        ")"
      ],
      "metadata": {
        "colab": {
          "base_uri": "https://localhost:8080/"
        },
        "id": "vIbay1pSlF1m",
        "outputId": "4fda9539-db16-4563-d0c7-439a6c646d6b"
      },
      "execution_count": null,
      "outputs": [
        {
          "output_type": "stream",
          "name": "stdout",
          "text": [
            "Generating record list for: drive01\n",
            "Generating list of all files for: drive01\n",
            "Created local base download directory: /content/stress_data\n",
            "Downloading files...\n",
            "Finished downloading files\n"
          ]
        }
      ]
    },
    {
      "cell_type": "code",
      "source": [
        "# 1) 전체 폴더 구조 살펴보기\n",
        "!ls -R /content/stress_data\n",
        "\n",
        "print(wfdb.get_record_list('drivedb'))"
      ],
      "metadata": {
        "colab": {
          "base_uri": "https://localhost:8080/"
        },
        "id": "jojbkn0onxK9",
        "outputId": "ff1846b4-0d98-4112-c4f9-31abb48b0bb8"
      },
      "execution_count": null,
      "outputs": [
        {
          "output_type": "stream",
          "name": "stdout",
          "text": [
            "/content/stress_data:\n",
            "drive01.dat  drive01.hea\n",
            "['drive01', 'drive02', 'drive03', 'drive04', 'drive05', 'drive06', 'drive07', 'drive08', 'drive09', 'drive10', 'drive11', 'drive12', 'drive13', 'drive14', 'drive15', 'drive16', 'drive17a', 'drive17b']\n"
          ]
        }
      ]
    },
    {
      "cell_type": "code",
      "source": [
        "# ───────────────────────────────────────────────\n",
        "# 1) 레코드 로드\n",
        "#    - 확장자(.hea/.dat) 없이, 전체 경로를 위치 인자로 전달\n",
        "# ───────────────────────────────────────────────\n",
        "record = wfdb.rdrecord('/content/stress_data/drive01')\n",
        "\n",
        "# ───────────────────────────────────────────────\n",
        "# 2) DataFrame 변환\n",
        "# ───────────────────────────────────────────────\n",
        "df = pd.DataFrame(record.p_signal, columns=record.sig_name)\n",
        "\n",
        "# ───────────────────────────────────────────────\n",
        "# 3) 타임스탬프 부여 및 인덱스 설정\n",
        "# ───────────────────────────────────────────────\n",
        "df['timestamp'] = pd.date_range(\n",
        "    start='2025-04-23 00:00:00',\n",
        "    periods=len(df),\n",
        "    freq='10L'    # 100Hz → 10ms\n",
        ")\n",
        "df.set_index('timestamp', inplace=True)\n",
        "\n",
        "# ───────────────────────────────────────────────\n",
        "# 4) 1분 단위 리샘플링 & 결측 보간\n",
        "# ───────────────────────────────────────────────\n",
        "df_resampled = (\n",
        "    df\n",
        "    .resample('1T')   # 1분 단위\n",
        "    .mean()\n",
        "    .interpolate()\n",
        ")\n",
        "\n",
        "# ───────────────────────────────────────────────\n",
        "# 5) 결과 확인\n",
        "# ───────────────────────────────────────────────\n",
        "print(\"Resampled shape:\", df_resampled.shape)\n",
        "df_resampled.head()"
      ],
      "metadata": {
        "id": "fcxT9cx2nO7v",
        "outputId": "461c7c58-3b13-4622-c3d2-a34bf18924bd",
        "colab": {
          "base_uri": "https://localhost:8080/",
          "height": 340
        }
      },
      "execution_count": null,
      "outputs": [
        {
          "output_type": "stream",
          "name": "stdout",
          "text": [
            "Resampled shape: (11, 6)\n"
          ]
        },
        {
          "output_type": "stream",
          "name": "stderr",
          "text": [
            "<ipython-input-4-5d0d31cd7ee3>:15: FutureWarning: 'L' is deprecated and will be removed in a future version, please use 'ms' instead.\n",
            "  df['timestamp'] = pd.date_range(\n",
            "<ipython-input-4-5d0d31cd7ee3>:27: FutureWarning: 'T' is deprecated and will be removed in a future version, please use 'min' instead.\n",
            "  .resample('1T')   # 1분 단위\n"
          ]
        },
        {
          "output_type": "execute_result",
          "data": {
            "text/plain": [
              "                          ECG       EMG  foot GSR   hand GSR          HR  \\\n",
              "timestamp                                                                  \n",
              "2025-04-23 00:00:00  0.006398 -0.005223  1.982321  10.488052   87.068167   \n",
              "2025-04-23 00:01:00  0.004760 -0.007576  1.898895   9.177901   91.831833   \n",
              "2025-04-23 00:02:00 -0.000312 -0.005425  3.693971  20.805632  106.473667   \n",
              "2025-04-23 00:03:00  0.000868 -0.005115  3.611284  20.729431   99.001500   \n",
              "2025-04-23 00:04:00  0.005644 -0.005086  3.464414  20.396722   94.784333   \n",
              "\n",
              "                          RESP  \n",
              "timestamp                       \n",
              "2025-04-23 00:00:00  10.828676  \n",
              "2025-04-23 00:01:00  11.319675  \n",
              "2025-04-23 00:02:00  11.343718  \n",
              "2025-04-23 00:03:00  11.584463  \n",
              "2025-04-23 00:04:00  11.721600  "
            ],
            "text/html": [
              "\n",
              "  <div id=\"df-4481c192-da24-4294-b27d-fbec26a8d73c\" class=\"colab-df-container\">\n",
              "    <div>\n",
              "<style scoped>\n",
              "    .dataframe tbody tr th:only-of-type {\n",
              "        vertical-align: middle;\n",
              "    }\n",
              "\n",
              "    .dataframe tbody tr th {\n",
              "        vertical-align: top;\n",
              "    }\n",
              "\n",
              "    .dataframe thead th {\n",
              "        text-align: right;\n",
              "    }\n",
              "</style>\n",
              "<table border=\"1\" class=\"dataframe\">\n",
              "  <thead>\n",
              "    <tr style=\"text-align: right;\">\n",
              "      <th></th>\n",
              "      <th>ECG</th>\n",
              "      <th>EMG</th>\n",
              "      <th>foot GSR</th>\n",
              "      <th>hand GSR</th>\n",
              "      <th>HR</th>\n",
              "      <th>RESP</th>\n",
              "    </tr>\n",
              "    <tr>\n",
              "      <th>timestamp</th>\n",
              "      <th></th>\n",
              "      <th></th>\n",
              "      <th></th>\n",
              "      <th></th>\n",
              "      <th></th>\n",
              "      <th></th>\n",
              "    </tr>\n",
              "  </thead>\n",
              "  <tbody>\n",
              "    <tr>\n",
              "      <th>2025-04-23 00:00:00</th>\n",
              "      <td>0.006398</td>\n",
              "      <td>-0.005223</td>\n",
              "      <td>1.982321</td>\n",
              "      <td>10.488052</td>\n",
              "      <td>87.068167</td>\n",
              "      <td>10.828676</td>\n",
              "    </tr>\n",
              "    <tr>\n",
              "      <th>2025-04-23 00:01:00</th>\n",
              "      <td>0.004760</td>\n",
              "      <td>-0.007576</td>\n",
              "      <td>1.898895</td>\n",
              "      <td>9.177901</td>\n",
              "      <td>91.831833</td>\n",
              "      <td>11.319675</td>\n",
              "    </tr>\n",
              "    <tr>\n",
              "      <th>2025-04-23 00:02:00</th>\n",
              "      <td>-0.000312</td>\n",
              "      <td>-0.005425</td>\n",
              "      <td>3.693971</td>\n",
              "      <td>20.805632</td>\n",
              "      <td>106.473667</td>\n",
              "      <td>11.343718</td>\n",
              "    </tr>\n",
              "    <tr>\n",
              "      <th>2025-04-23 00:03:00</th>\n",
              "      <td>0.000868</td>\n",
              "      <td>-0.005115</td>\n",
              "      <td>3.611284</td>\n",
              "      <td>20.729431</td>\n",
              "      <td>99.001500</td>\n",
              "      <td>11.584463</td>\n",
              "    </tr>\n",
              "    <tr>\n",
              "      <th>2025-04-23 00:04:00</th>\n",
              "      <td>0.005644</td>\n",
              "      <td>-0.005086</td>\n",
              "      <td>3.464414</td>\n",
              "      <td>20.396722</td>\n",
              "      <td>94.784333</td>\n",
              "      <td>11.721600</td>\n",
              "    </tr>\n",
              "  </tbody>\n",
              "</table>\n",
              "</div>\n",
              "    <div class=\"colab-df-buttons\">\n",
              "\n",
              "  <div class=\"colab-df-container\">\n",
              "    <button class=\"colab-df-convert\" onclick=\"convertToInteractive('df-4481c192-da24-4294-b27d-fbec26a8d73c')\"\n",
              "            title=\"Convert this dataframe to an interactive table.\"\n",
              "            style=\"display:none;\">\n",
              "\n",
              "  <svg xmlns=\"http://www.w3.org/2000/svg\" height=\"24px\" viewBox=\"0 -960 960 960\">\n",
              "    <path d=\"M120-120v-720h720v720H120Zm60-500h600v-160H180v160Zm220 220h160v-160H400v160Zm0 220h160v-160H400v160ZM180-400h160v-160H180v160Zm440 0h160v-160H620v160ZM180-180h160v-160H180v160Zm440 0h160v-160H620v160Z\"/>\n",
              "  </svg>\n",
              "    </button>\n",
              "\n",
              "  <style>\n",
              "    .colab-df-container {\n",
              "      display:flex;\n",
              "      gap: 12px;\n",
              "    }\n",
              "\n",
              "    .colab-df-convert {\n",
              "      background-color: #E8F0FE;\n",
              "      border: none;\n",
              "      border-radius: 50%;\n",
              "      cursor: pointer;\n",
              "      display: none;\n",
              "      fill: #1967D2;\n",
              "      height: 32px;\n",
              "      padding: 0 0 0 0;\n",
              "      width: 32px;\n",
              "    }\n",
              "\n",
              "    .colab-df-convert:hover {\n",
              "      background-color: #E2EBFA;\n",
              "      box-shadow: 0px 1px 2px rgba(60, 64, 67, 0.3), 0px 1px 3px 1px rgba(60, 64, 67, 0.15);\n",
              "      fill: #174EA6;\n",
              "    }\n",
              "\n",
              "    .colab-df-buttons div {\n",
              "      margin-bottom: 4px;\n",
              "    }\n",
              "\n",
              "    [theme=dark] .colab-df-convert {\n",
              "      background-color: #3B4455;\n",
              "      fill: #D2E3FC;\n",
              "    }\n",
              "\n",
              "    [theme=dark] .colab-df-convert:hover {\n",
              "      background-color: #434B5C;\n",
              "      box-shadow: 0px 1px 3px 1px rgba(0, 0, 0, 0.15);\n",
              "      filter: drop-shadow(0px 1px 2px rgba(0, 0, 0, 0.3));\n",
              "      fill: #FFFFFF;\n",
              "    }\n",
              "  </style>\n",
              "\n",
              "    <script>\n",
              "      const buttonEl =\n",
              "        document.querySelector('#df-4481c192-da24-4294-b27d-fbec26a8d73c button.colab-df-convert');\n",
              "      buttonEl.style.display =\n",
              "        google.colab.kernel.accessAllowed ? 'block' : 'none';\n",
              "\n",
              "      async function convertToInteractive(key) {\n",
              "        const element = document.querySelector('#df-4481c192-da24-4294-b27d-fbec26a8d73c');\n",
              "        const dataTable =\n",
              "          await google.colab.kernel.invokeFunction('convertToInteractive',\n",
              "                                                    [key], {});\n",
              "        if (!dataTable) return;\n",
              "\n",
              "        const docLinkHtml = 'Like what you see? Visit the ' +\n",
              "          '<a target=\"_blank\" href=https://colab.research.google.com/notebooks/data_table.ipynb>data table notebook</a>'\n",
              "          + ' to learn more about interactive tables.';\n",
              "        element.innerHTML = '';\n",
              "        dataTable['output_type'] = 'display_data';\n",
              "        await google.colab.output.renderOutput(dataTable, element);\n",
              "        const docLink = document.createElement('div');\n",
              "        docLink.innerHTML = docLinkHtml;\n",
              "        element.appendChild(docLink);\n",
              "      }\n",
              "    </script>\n",
              "  </div>\n",
              "\n",
              "\n",
              "<div id=\"df-2e353c58-2d4f-4cfc-8035-08fe42ec1836\">\n",
              "  <button class=\"colab-df-quickchart\" onclick=\"quickchart('df-2e353c58-2d4f-4cfc-8035-08fe42ec1836')\"\n",
              "            title=\"Suggest charts\"\n",
              "            style=\"display:none;\">\n",
              "\n",
              "<svg xmlns=\"http://www.w3.org/2000/svg\" height=\"24px\"viewBox=\"0 0 24 24\"\n",
              "     width=\"24px\">\n",
              "    <g>\n",
              "        <path d=\"M19 3H5c-1.1 0-2 .9-2 2v14c0 1.1.9 2 2 2h14c1.1 0 2-.9 2-2V5c0-1.1-.9-2-2-2zM9 17H7v-7h2v7zm4 0h-2V7h2v10zm4 0h-2v-4h2v4z\"/>\n",
              "    </g>\n",
              "</svg>\n",
              "  </button>\n",
              "\n",
              "<style>\n",
              "  .colab-df-quickchart {\n",
              "      --bg-color: #E8F0FE;\n",
              "      --fill-color: #1967D2;\n",
              "      --hover-bg-color: #E2EBFA;\n",
              "      --hover-fill-color: #174EA6;\n",
              "      --disabled-fill-color: #AAA;\n",
              "      --disabled-bg-color: #DDD;\n",
              "  }\n",
              "\n",
              "  [theme=dark] .colab-df-quickchart {\n",
              "      --bg-color: #3B4455;\n",
              "      --fill-color: #D2E3FC;\n",
              "      --hover-bg-color: #434B5C;\n",
              "      --hover-fill-color: #FFFFFF;\n",
              "      --disabled-bg-color: #3B4455;\n",
              "      --disabled-fill-color: #666;\n",
              "  }\n",
              "\n",
              "  .colab-df-quickchart {\n",
              "    background-color: var(--bg-color);\n",
              "    border: none;\n",
              "    border-radius: 50%;\n",
              "    cursor: pointer;\n",
              "    display: none;\n",
              "    fill: var(--fill-color);\n",
              "    height: 32px;\n",
              "    padding: 0;\n",
              "    width: 32px;\n",
              "  }\n",
              "\n",
              "  .colab-df-quickchart:hover {\n",
              "    background-color: var(--hover-bg-color);\n",
              "    box-shadow: 0 1px 2px rgba(60, 64, 67, 0.3), 0 1px 3px 1px rgba(60, 64, 67, 0.15);\n",
              "    fill: var(--button-hover-fill-color);\n",
              "  }\n",
              "\n",
              "  .colab-df-quickchart-complete:disabled,\n",
              "  .colab-df-quickchart-complete:disabled:hover {\n",
              "    background-color: var(--disabled-bg-color);\n",
              "    fill: var(--disabled-fill-color);\n",
              "    box-shadow: none;\n",
              "  }\n",
              "\n",
              "  .colab-df-spinner {\n",
              "    border: 2px solid var(--fill-color);\n",
              "    border-color: transparent;\n",
              "    border-bottom-color: var(--fill-color);\n",
              "    animation:\n",
              "      spin 1s steps(1) infinite;\n",
              "  }\n",
              "\n",
              "  @keyframes spin {\n",
              "    0% {\n",
              "      border-color: transparent;\n",
              "      border-bottom-color: var(--fill-color);\n",
              "      border-left-color: var(--fill-color);\n",
              "    }\n",
              "    20% {\n",
              "      border-color: transparent;\n",
              "      border-left-color: var(--fill-color);\n",
              "      border-top-color: var(--fill-color);\n",
              "    }\n",
              "    30% {\n",
              "      border-color: transparent;\n",
              "      border-left-color: var(--fill-color);\n",
              "      border-top-color: var(--fill-color);\n",
              "      border-right-color: var(--fill-color);\n",
              "    }\n",
              "    40% {\n",
              "      border-color: transparent;\n",
              "      border-right-color: var(--fill-color);\n",
              "      border-top-color: var(--fill-color);\n",
              "    }\n",
              "    60% {\n",
              "      border-color: transparent;\n",
              "      border-right-color: var(--fill-color);\n",
              "    }\n",
              "    80% {\n",
              "      border-color: transparent;\n",
              "      border-right-color: var(--fill-color);\n",
              "      border-bottom-color: var(--fill-color);\n",
              "    }\n",
              "    90% {\n",
              "      border-color: transparent;\n",
              "      border-bottom-color: var(--fill-color);\n",
              "    }\n",
              "  }\n",
              "</style>\n",
              "\n",
              "  <script>\n",
              "    async function quickchart(key) {\n",
              "      const quickchartButtonEl =\n",
              "        document.querySelector('#' + key + ' button');\n",
              "      quickchartButtonEl.disabled = true;  // To prevent multiple clicks.\n",
              "      quickchartButtonEl.classList.add('colab-df-spinner');\n",
              "      try {\n",
              "        const charts = await google.colab.kernel.invokeFunction(\n",
              "            'suggestCharts', [key], {});\n",
              "      } catch (error) {\n",
              "        console.error('Error during call to suggestCharts:', error);\n",
              "      }\n",
              "      quickchartButtonEl.classList.remove('colab-df-spinner');\n",
              "      quickchartButtonEl.classList.add('colab-df-quickchart-complete');\n",
              "    }\n",
              "    (() => {\n",
              "      let quickchartButtonEl =\n",
              "        document.querySelector('#df-2e353c58-2d4f-4cfc-8035-08fe42ec1836 button');\n",
              "      quickchartButtonEl.style.display =\n",
              "        google.colab.kernel.accessAllowed ? 'block' : 'none';\n",
              "    })();\n",
              "  </script>\n",
              "</div>\n",
              "\n",
              "    </div>\n",
              "  </div>\n"
            ],
            "application/vnd.google.colaboratory.intrinsic+json": {
              "type": "dataframe",
              "variable_name": "df_resampled",
              "summary": "{\n  \"name\": \"df_resampled\",\n  \"rows\": 11,\n  \"fields\": [\n    {\n      \"column\": \"timestamp\",\n      \"properties\": {\n        \"dtype\": \"date\",\n        \"min\": \"2025-04-23 00:00:00\",\n        \"max\": \"2025-04-23 00:10:00\",\n        \"num_unique_values\": 11,\n        \"samples\": [\n          \"2025-04-23 00:05:00\",\n          \"2025-04-23 00:00:00\",\n          \"2025-04-23 00:09:00\"\n        ],\n        \"semantic_type\": \"\",\n        \"description\": \"\"\n      }\n    },\n    {\n      \"column\": \"ECG\",\n      \"properties\": {\n        \"dtype\": \"number\",\n        \"std\": 0.0023796003244235947,\n        \"min\": -0.00031216666666666665,\n        \"max\": 0.007352901934623082,\n        \"num_unique_values\": 11,\n        \"samples\": [\n          0.0027256666666666666,\n          0.006398,\n          0.0062935000000000005\n        ],\n        \"semantic_type\": \"\",\n        \"description\": \"\"\n      }\n    },\n    {\n      \"column\": \"EMG\",\n      \"properties\": {\n        \"dtype\": \"number\",\n        \"std\": 0.0009905612212994445,\n        \"min\": -0.007576133333333334,\n        \"max\": -0.00448765,\n        \"num_unique_values\": 11,\n        \"samples\": [\n          -0.0049820333333333335,\n          -0.005222516666666667,\n          -0.00448765\n        ],\n        \"semantic_type\": \"\",\n        \"description\": \"\"\n      }\n    },\n    {\n      \"column\": \"foot GSR\",\n      \"properties\": {\n        \"dtype\": \"number\",\n        \"std\": 0.7364832366392542,\n        \"min\": 1.7807771847898597,\n        \"max\": 3.693971166666667,\n        \"num_unique_values\": 11,\n        \"samples\": [\n          3.1709124999999996,\n          1.9823211666666667,\n          2.0849085\n        ],\n        \"semantic_type\": \"\",\n        \"description\": \"\"\n      }\n    },\n    {\n      \"column\": \"hand GSR\",\n      \"properties\": {\n        \"dtype\": \"number\",\n        \"std\": 4.943721977318714,\n        \"min\": 9.177900833333332,\n        \"max\": 23.5503895,\n        \"num_unique_values\": 11,\n        \"samples\": [\n          21.621585833333334,\n          10.488051500000001,\n          16.4540125\n        ],\n        \"semantic_type\": \"\",\n        \"description\": \"\"\n      }\n    },\n    {\n      \"column\": \"HR\",\n      \"properties\": {\n        \"dtype\": \"number\",\n        \"std\": 7.1018807571469145,\n        \"min\": 83.90527018012008,\n        \"max\": 106.47366666666667,\n        \"num_unique_values\": 11,\n        \"samples\": [\n          100.959,\n          87.06816666666667,\n          84.83883333333333\n        ],\n        \"semantic_type\": \"\",\n        \"description\": \"\"\n      }\n    },\n    {\n      \"column\": \"RESP\",\n      \"properties\": {\n        \"dtype\": \"number\",\n        \"std\": 0.314765353803381,\n        \"min\": 10.828676,\n        \"max\": 11.882225333333333,\n        \"num_unique_values\": 11,\n        \"samples\": [\n          11.878391333333333,\n          10.828676,\n          11.646851333333332\n        ],\n        \"semantic_type\": \"\",\n        \"description\": \"\"\n      }\n    }\n  ]\n}"
            }
          },
          "metadata": {},
          "execution_count": 4
        }
      ]
    },
    {
      "cell_type": "markdown",
      "source": [
        "Step 2. 윈도잉(Windowing)\n",
        "\n",
        "무엇을 하는가:\n",
        "- 30분(=30샘플) 단위로 데이터를 슬라이딩 또는 스템 윈도우로 쪼개서\n",
        "- 각 윈도우의 평균(또는 중간값, 분산 등)을 추출하여 벡터(임베딩)로 변환\n",
        "\n",
        "왜 필요한가:\n",
        "- 1분 단위로 보면 너무 '노이즈'가 많음(심박은 순간변동 큼)\n",
        "- 30분 평균은 짧은 급변을 걸러 주고, 장기적인 상태 변화에 집중할 수 있게 해 줌\n",
        "- 백터 하나가 그 구간의 '대표 상태'가 되어, baseline 비교/이상 탐지 시 안정성을 높임"
      ],
      "metadata": {
        "id": "Vwaj-72rdqLu"
      }
    },
    {
      "cell_type": "code",
      "source": [
        "import pandas as pd\n",
        "import numpy as np               # ← 여기 추가!\n",
        "import torch                     # ← PyTorch 사용 시\n",
        "\n",
        "# 1. 샘플 데이터 생성 (실제 데이터 파일로 교체 가능)\n",
        "date_rng = pd.date_range(start='2025-04-24 00:00', end='2025-04-24 23:59', freq='T')\n",
        "df = pd.DataFrame(date_rng, columns=['timestamp'])\n",
        "df['heart_rate'] = np.random.randint(60, 100, size=len(date_rng))\n",
        "df['temperature'] = np.random.normal(36.5, 0.5, size=len(date_rng))\n",
        "df.set_index('timestamp', inplace=True)\n",
        "\n",
        "# 2. 30분 단위 윈도잉하여 주요 통계량(feature vector) 추출\n",
        "window_size = '30T'  # 30분\n",
        "agg_functions = ['mean', 'median', 'std', 'var']\n",
        "\n",
        "windowed_df = df.resample(window_size).agg(agg_functions)\n",
        "windowed_df.dropna(inplace=True)  # 결측값 제거\n",
        "\n",
        "# 3. 임베딩 벡터 추출\n",
        "embeddings = windowed_df.values  # shape: (num_windows, num_features)\n",
        "\n",
        "# 4. (선택) PyTorch Tensor로 변환\n",
        "embeddings_tensor = torch.from_numpy(embeddings).float()\n",
        "\n",
        "# 결과 확인\n",
        "print(\"Windowed Features (first 5 rows):\")\n",
        "print(windowed_df.head())\n",
        "print(\"\\nEmbeddings Tensor Shape:\", embeddings_tensor.shape)"
      ],
      "metadata": {
        "colab": {
          "base_uri": "https://localhost:8080/"
        },
        "id": "ymvODDyfNdyB",
        "outputId": "bab24051-d396-46ff-bec1-e0066e16a9f8"
      },
      "execution_count": null,
      "outputs": [
        {
          "output_type": "stream",
          "name": "stdout",
          "text": [
            "Windowed Features (first 5 rows):\n",
            "                    heart_rate                               temperature  \\\n",
            "                          mean median        std         var        mean   \n",
            "timestamp                                                                  \n",
            "2025-04-24 00:00:00  76.600000   73.0  12.502689  156.317241   36.601419   \n",
            "2025-04-24 00:30:00  79.366667   80.5  11.084265  122.860920   36.434311   \n",
            "2025-04-24 01:00:00  72.700000   72.0  10.764405  115.872414   36.579981   \n",
            "2025-04-24 01:30:00  83.966667   84.5  10.417106  108.516092   36.432686   \n",
            "2025-04-24 02:00:00  78.933333   78.5  12.289422  151.029885   36.505918   \n",
            "\n",
            "                                                    \n",
            "                        median       std       var  \n",
            "timestamp                                           \n",
            "2025-04-24 00:00:00  36.589067  0.524468  0.275067  \n",
            "2025-04-24 00:30:00  36.507470  0.482605  0.232907  \n",
            "2025-04-24 01:00:00  36.622871  0.573352  0.328732  \n",
            "2025-04-24 01:30:00  36.337739  0.628052  0.394450  \n",
            "2025-04-24 02:00:00  36.598903  0.511171  0.261296  \n",
            "\n",
            "Embeddings Tensor Shape: torch.Size([48, 8])\n"
          ]
        },
        {
          "output_type": "stream",
          "name": "stderr",
          "text": [
            "<ipython-input-6-ba164a905055>:6: FutureWarning: 'T' is deprecated and will be removed in a future version, please use 'min' instead.\n",
            "  date_rng = pd.date_range(start='2025-04-24 00:00', end='2025-04-24 23:59', freq='T')\n",
            "<ipython-input-6-ba164a905055>:16: FutureWarning: 'T' is deprecated and will be removed in a future version, please use 'min' instead.\n",
            "  windowed_df = df.resample(window_size).agg(agg_functions)\n"
          ]
        }
      ]
    },
    {
      "cell_type": "markdown",
      "source": [
        "Step 3. Baseline 임베딩 생성\n",
        "\n",
        "무엇을 하는가:\n",
        "- 초기 5일(또는 설정한 정상 기간) 동안의 모든 윈도우 임베딩을 모아서\n",
        "- 그 평균 벡터(baseline_vector)를 계산\n",
        "- (보통 정규화 전/후로 나눠서) 전체 임베딩을 StandardScaler로 스케일링\n",
        "\n",
        "왜 필요한가:\n",
        "- 개인별 정상 상태를 하나의 참조점으로 정의\n",
        "- 표준화(StandardScaler)는\n",
        "  - 서로 다른 센서(심박/온도/가속도) 스케일 차이를 맞춰 주고,\n",
        "  - 코사인 유사도나 거리 계산을 할 때 왜곡을 방지\n",
        "\n",
        "- baseline_vector가 이 사람의 정상 평균이 되는 것"
      ],
      "metadata": {
        "id": "184HLWB7ePNi"
      }
    }
  ]
}